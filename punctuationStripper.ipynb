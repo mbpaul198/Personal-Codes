{
 "cells": [
  {
   "cell_type": "code",
   "execution_count": 2,
   "metadata": {},
   "outputs": [],
   "source": [
    "#hp1 = open ('wishingWell.rtf','r')\n",
    "hp1 = open ('hp1.txt','r',encoding = \"latin-1\")\n",
    "\n",
    "theText = hp1.read()\n",
    "\n",
    "hp1.close()\n",
    "\n",
    "listOfTextCharacters = list(theText)\n",
    "\n",
    "#listOfPunctuation = [\"!\", \"@\", \"#\", \"$\", \"%\", \"^\", \"&\", \"*\", \"(\", \")\", \"-\", \"_\", \"+\", \"=\", \"{\", \"}\", \"[\", \"]\", \"\\\\\", \":\", \";\", \"\\\"\", \"\\'\", \",\", \"<\", \".\", \">\",\"?\", \"/\", \"|\"]\n",
    "#listOfPunctuation = [\"-\",\":\",\";\",\"\\\"\",\"'\",\",\",\".\",\"?\",\"!\"]\n",
    "listOfPunctuation = [\";\",\"\\\"\",\",\",\".\",\"?\",\"!\"]\n",
    "\n",
    "\n",
    "listOfTextPunctuation = []\n",
    "\n",
    "for theCharacter in listOfTextCharacters:\n",
    "    if theCharacter in listOfPunctuation:\n",
    "        listOfTextPunctuation.append(theCharacter)"
   ]
  },
  {
   "cell_type": "code",
   "execution_count": null,
   "metadata": {},
   "outputs": [],
   "source": [
    "#print (listOfTextPunctuation)"
   ]
  },
  {
   "cell_type": "code",
   "execution_count": null,
   "metadata": {},
   "outputs": [],
   "source": [
    "hp1W = open ('hp1W.txt','w')\n",
    "\n",
    "for theCharacter in listOfTextPunctuation:\n",
    "    hp1W.write(theCharacter)\n",
    "\n",
    "hp1W.close()"
   ]
  },
  {
   "cell_type": "code",
   "execution_count": 3,
   "metadata": {},
   "outputs": [
    {
     "name": "stdout",
     "output_type": "stream",
     "text": [
      "{';': [0], '\"': [0], ',': [0], '.': [0], '?': [0], '!': [0]}\n",
      "{';': [135], '\"': [4747], ',': [5658], '.': [6136], '?': [754], '!': [474]}\n"
     ]
    }
   ],
   "source": [
    "# Create a list of the punctuation we want a count of\n",
    "#listOfPunctuation = [\"-\",\":\",\";\",\"\\\"\",\"'\",\",\",\".\",\"?\",\"!\"]\n",
    "listOfPunctuation = [\";\",\"\\\"\",\",\",\".\",\"?\",\"!\"]\n",
    "\n",
    "# Group each type of punctuation and count the number of times it occurs\n",
    "\n",
    "# Turn listOfPunctuation into a dictionary with each punctuation type as a key with a value that is \n",
    "\n",
    "# the count of each time the key appears in the text\n",
    "\n",
    "dictOfPunctuation = {key: [0] for key in listOfPunctuation}\n",
    "print (dictOfPunctuation)\n",
    "\n",
    "# Count each punctuation in the dictionary\n",
    "\n",
    "for theKey in dictOfPunctuation: # iterate through each key (each punctuation type)\n",
    "    counter = 0  # Set the counter at 0\n",
    "    \n",
    "    for theCharacter in listOfTextPunctuation: # If the key matches the character in the list, then add 1 to the counter\n",
    "        if theKey == theCharacter:\n",
    "            \n",
    "            counter = counter + 1\n",
    "            \n",
    "            dictOfPunctuation[theKey][0] = counter # Then change the value of that key to the number of times \n",
    "                                                   # that character shows up in the list\n",
    "\n",
    "# Order dictionary from highest to lowest value                \n",
    "                \n",
    "print (dictOfPunctuation)\n",
    "        "
   ]
  },
  {
   "cell_type": "code",
   "execution_count": 4,
   "metadata": {},
   "outputs": [
    {
     "name": "stdout",
     "output_type": "stream",
     "text": [
      "{';': [135, 0.008], '\"': [4747, 0.265], ',': [5658, 0.316], '.': [6136, 0.343], '?': [754, 0.042], '!': [474, 0.026]}\n"
     ]
    }
   ],
   "source": [
    "# Get percent of total for each punctuation and add it to a new element for each key\n",
    "\n",
    "# Count the number of total punctuation\n",
    "totalPunct = int(len(listOfTextPunctuation))\n",
    "\n",
    "for theKey in dictOfPunctuation:\n",
    "    percentOfTotal = round(dictOfPunctuation[theKey][0]/totalPunct,3)\n",
    "    \n",
    "    # add new element to each key with the percent of total punctuation\n",
    "    dictOfPunctuation[theKey].append(percentOfTotal)\n",
    "\n",
    "\n",
    "print (dictOfPunctuation)"
   ]
  },
  {
   "cell_type": "code",
   "execution_count": null,
   "metadata": {
    "jupyter": {
     "source_hidden": true
    }
   },
   "outputs": [],
   "source": [
    "newList = [\".\",\"!\",\".\",\"!\",\"!\",\"!\",\"p\",\"p\",\"p\",\"p\",\"p\"]\n",
    "\n",
    "listOfPunctuation = [\"-\",\":\",\";\",\"\\\"\",\"'\",\",\",\".\",\"?\",\"!\"]\n",
    "\n",
    "# Group each type of punctuation and count the number of times it occurs'\n",
    "\n",
    "# Turn listOfPunctuation into a dictionary with each punctuation type as a key followed by a list that will contain the count of each key from the list\n",
    "dictOfPunctuation = dict.fromkeys(listOfPunctuation,[0])\n",
    "print (dictOfPunctuation)\n",
    "\n",
    "\n",
    "# Count each punctuation in the dictionary\n",
    "\n",
    "for thePunct in newList:\n",
    "    counter = 0\n",
    "    \n",
    "    for theKey in dictOfPunctuation:\n",
    "        if theKey == thePunct:\n",
    "            \n",
    "            counter = counter + 1\n",
    "            \n",
    "            dictOfPunctuation[theKey][0] = counter\n",
    "\n",
    "print (dictOfPunctuation)\n",
    "        \n"
   ]
  },
  {
   "cell_type": "code",
   "execution_count": null,
   "metadata": {
    "jupyter": {
     "source_hidden": true
    }
   },
   "outputs": [],
   "source": [
    "# Create a new dictionary to hold every single punctuatio nthat occurs\n",
    "dictOfPunct = {}\n",
    "for i in listOfPunctuation:\n",
    "    dictOfPunct['lst_%s' % i] = []\n",
    "    \n",
    "print (dictOfPunct)\n",
    "\n",
    "for theKey in dictOfPunct: # iterate through each key (each punctuation type)\n",
    "    \n",
    "    for theCharacter in listOfTextPunctuation:\n",
    "        if theKey[4] == theCharacter:\n",
    "            \n",
    "            dictOfPunct[theKey].append(theCharacter)  # Append it to the list in the dictionary\n",
    "            \n",
    "print (len((dictOfPunct['lst_-'])))\n",
    "#print (dictOfPunct)\n",
    "\n"
   ]
  },
  {
   "cell_type": "code",
   "execution_count": null,
   "metadata": {
    "jupyter": {
     "source_hidden": true
    }
   },
   "outputs": [],
   "source": [
    "hp1WPunct = open ('hp1WPunct.txt','w')\n",
    "\n",
    "for key, values in dictOfPunct.items():\n",
    "    for value in values:\n",
    "        hp1WPunct.write(value)\n",
    "\n",
    "hp1WPunct.close()"
   ]
  },
  {
   "cell_type": "code",
   "execution_count": null,
   "metadata": {
    "jupyter": {
     "source_hidden": true
    }
   },
   "outputs": [],
   "source": [
    "# Set the number of characters you want per line\n",
    "groupNum = 25\n",
    "\n",
    "\n",
    "compositeList = [listOfTextPunctuation[x:x+groupNum] for x in range(0, len(listOfTextPunctuation),groupNum)]\n"
   ]
  },
  {
   "cell_type": "code",
   "execution_count": null,
   "metadata": {
    "jupyter": {
     "source_hidden": true
    }
   },
   "outputs": [],
   "source": [
    "from fpdf import FPDF\n",
    "  \n",
    "# save FPDF() class into a \n",
    "# variable pdf\n",
    "pdf = FPDF()\n",
    "  \n",
    "# Add a page\n",
    "pdf.add_page()\n",
    "  \n",
    "# set style and size of font \n",
    "# that you want in the pdf\n",
    "pdf.set_font(\"Arial\", size = 15)\n",
    "\n",
    "for theTextPunctuation in listOfTextPunctuation:\n",
    "#for theTextPunctuation in compositeList:\n",
    "    pdf.write(5, str(theTextPunctuation))\n",
    "    pdf.ln()\n",
    "  \n",
    "# create a cell\n",
    "#pdf.cell(200, 10, txt = listOfTextPunctuation, \n",
    "#         ln = 1, align = 'C')\n",
    "\n",
    "  \n",
    "# save the pdf with name .pdf\n",
    "pdf.output(\"text.pdf\")   "
   ]
  },
  {
   "cell_type": "code",
   "execution_count": null,
   "metadata": {
    "jupyter": {
     "source_hidden": true
    }
   },
   "outputs": [],
   "source": [
    "lst = ['a', 'b', 'c', 'd', 'e', 'f', 'g', 'h', 'i', 'j', 'k', 'l', 'm', 'n']\n",
    "s = []\n",
    "n = 3\n",
    "for x in range(n):\n",
    "    s.append(lst[x::n])\n",
    "    print(s)"
   ]
  }
 ],
 "metadata": {
  "kernelspec": {
   "display_name": "Python 3",
   "language": "python",
   "name": "python3"
  },
  "language_info": {
   "codemirror_mode": {
    "name": "ipython",
    "version": 3
   },
   "file_extension": ".py",
   "mimetype": "text/x-python",
   "name": "python",
   "nbconvert_exporter": "python",
   "pygments_lexer": "ipython3",
   "version": "3.8.3"
  }
 },
 "nbformat": 4,
 "nbformat_minor": 4
}
